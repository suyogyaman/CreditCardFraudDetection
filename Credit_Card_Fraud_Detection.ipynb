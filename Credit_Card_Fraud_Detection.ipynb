{
 "cells": [
  {
   "cell_type": "markdown",
   "metadata": {},
   "source": [
    "# Credit Card Fraud Detection using Isolation Forest and SVM"
   ]
  },
  {
   "cell_type": "markdown",
   "metadata": {},
   "source": [
    "We have already PCA featured dataset. It is completely imbalanced dataset ( 90% Normal and 10% Fraud output ).\n",
    "However, we are going to handle it using Local Outlier Factor ( LOF ) algorithm and finally applying Isolation Forest Algorithm."
   ]
  },
  {
   "cell_type": "markdown",
   "metadata": {},
   "source": [
    "Isolation Forest Algorithm is same as random forest which uses decision trees. But here we give anomaly score to the leaf nodes as per its depth."
   ]
  },
  {
   "cell_type": "code",
   "execution_count": 1,
   "metadata": {},
   "outputs": [],
   "source": [
    "#Importing Libraries\n",
    "import pandas as pd\n",
    "import numpy as np\n",
    "import matplotlib.pyplot as plt\n",
    "import seaborn as sns\n",
    "%matplotlib inline\n",
    "\n",
    "import sklearn\n",
    "from sklearn.metrics import classification_report,confusion_matrix,accuracy_score\n",
    "\n",
    "from pylab import rcParams\n",
    "#rcParams['figure.figsize'] = 14,8\n",
    "RANDOM_SEED = 42"
   ]
  },
  {
   "cell_type": "code",
   "execution_count": null,
   "metadata": {},
   "outputs": [],
   "source": [
    "#Importing dataset\n",
    "dataset = pd.read_csv('creditcard.csv')\n",
    "dataset.head()"
   ]
  },
  {
   "cell_type": "markdown",
   "metadata": {},
   "source": [
    "## Exploratory Data Analysis "
   ]
  },
  {
   "cell_type": "code",
   "execution_count": null,
   "metadata": {},
   "outputs": [],
   "source": [
    "dataset.info()"
   ]
  },
  {
   "cell_type": "code",
   "execution_count": null,
   "metadata": {},
   "outputs": [],
   "source": [
    "dataset.describe()"
   ]
  },
  {
   "cell_type": "code",
   "execution_count": null,
   "metadata": {},
   "outputs": [],
   "source": [
    "dataset.isnull().sum().any() #no null values verified"
   ]
  },
  {
   "cell_type": "code",
   "execution_count": null,
   "metadata": {},
   "outputs": [],
   "source": [
    "#Check the class count ( dependent feature ) for imbalanced condition\n",
    "print(\"Total Count : \"+str(len((dataset['Class']))))\n",
    "\n",
    "count_classes = pd.value_counts(dataset['Class'],sort=True)\n",
    "\n",
    "print(\"Normal Transaction : \"+str(count_classes[0]))\n",
    "print(\"Fraud Transaction : \"+str(count_classes[1]))"
   ]
  },
  {
   "cell_type": "markdown",
   "metadata": {},
   "source": [
    "As you can see, this is completely imbalanced dataset."
   ]
  },
  {
   "cell_type": "code",
   "execution_count": null,
   "metadata": {},
   "outputs": [],
   "source": [
    "#Lets visualize it using count plot\n",
    "plt.figure(figsize=(8,5))\n",
    "count_classes.plot(kind=\"bar\",rot=0)\n",
    "\n",
    "#customize count plot\n",
    "XLABELS = [\"Normal\",\"Fraud\"]\n",
    "plt.title(\"Transaction Class Distribution\")\n",
    "plt.xticks(range(2),XLABELS)\n",
    "plt.xlabel(\"Class\")\n",
    "plt.ylabel(\"Frequency\")\n",
    "plt.show()"
   ]
  },
  {
   "cell_type": "code",
   "execution_count": null,
   "metadata": {},
   "outputs": [],
   "source": [
    "sns.set_style('whitegrid')\n",
    "sns.boxplot(x=dataset['Amount'])"
   ]
  },
  {
   "cell_type": "code",
   "execution_count": null,
   "metadata": {},
   "outputs": [],
   "source": [
    "#Get Fraud and Normal Class\n",
    "Fraud = dataset[dataset[\"Class\"]==1]\n",
    "Normal = dataset[dataset[\"Class\"]==0]"
   ]
  },
  {
   "cell_type": "code",
   "execution_count": null,
   "metadata": {},
   "outputs": [],
   "source": [
    "Fraud"
   ]
  },
  {
   "cell_type": "code",
   "execution_count": null,
   "metadata": {},
   "outputs": [],
   "source": [
    "Normal"
   ]
  },
  {
   "cell_type": "code",
   "execution_count": null,
   "metadata": {},
   "outputs": [],
   "source": [
    "print(Fraud.shape,Normal.shape)"
   ]
  },
  {
   "cell_type": "code",
   "execution_count": null,
   "metadata": {},
   "outputs": [],
   "source": [
    "#Lets explore the feature : Amount, how do it effect the class?\n",
    "Fraud.Amount.describe()"
   ]
  },
  {
   "cell_type": "code",
   "execution_count": null,
   "metadata": {},
   "outputs": [],
   "source": [
    "Normal.Amount.describe()"
   ]
  },
  {
   "cell_type": "code",
   "execution_count": null,
   "metadata": {},
   "outputs": [],
   "source": [
    "#Lets see amount transaction per class\n",
    "f, (ax1,ax2) = plt.subplots(2,1,sharex=True,figsize=(10,10))\n",
    "f.suptitle('Amount per transaction by class')\n",
    "\n",
    "bins=20\n",
    "ax1.hist(Fraud.Amount,bins=bins)\n",
    "ax1.set_title('Fraud')\n",
    "\n",
    "ax2.hist(Normal.Amount,bins=bins)\n",
    "ax2.set_title('Normal')\n",
    "\n",
    "plt.xlabel('Amount in $')\n",
    "plt.ylabel('No of Transactions')\n",
    "plt.xlim((0,20000))\n",
    "plt.yscale('log')\n",
    "plt.show()"
   ]
  },
  {
   "cell_type": "code",
   "execution_count": null,
   "metadata": {},
   "outputs": [],
   "source": [
    "#How often do Fraud transaction take place? Or what time does it occur more?\n",
    "\n",
    "f,(ax1,ax2) = plt.subplots(2,1,sharex=True,figsize=(10,10))\n",
    "f.suptitle(\"Time of Transcation vs Amount by class\")\n",
    "\n",
    "ax1.scatter(x=Fraud.Time/3600,y=Fraud.Amount)\n",
    "ax1.set_title(\"Fraud Distrubution\")\n",
    "\n",
    "ax2.scatter(x=Normal.Time/3600,y=Normal.Amount)\n",
    "ax2.set_title(\"Normal Distribution\")\n",
    "\n",
    "plt.xlabel(\"Time in Hours\")\n",
    "plt.ylabel(\"Amount\")\n",
    "plt.show()"
   ]
  },
  {
   "cell_type": "code",
   "execution_count": null,
   "metadata": {},
   "outputs": [],
   "source": [
    "#Since the records are 284807 rows, we will take 1% of it for our purpose of shorter computation time\n",
    "data = dataset.sample(frac=0.1,random_state=1)\n",
    "data.shape"
   ]
  },
  {
   "cell_type": "code",
   "execution_count": null,
   "metadata": {},
   "outputs": [],
   "source": [
    "dataset.shape"
   ]
  },
  {
   "cell_type": "code",
   "execution_count": null,
   "metadata": {},
   "outputs": [],
   "source": [
    "#Determine the number of fraud and valid tranasction\n",
    "Fraud = data[data['Class']==1]\n",
    "Valid = data[data['Class']==0]\n",
    "\n",
    "outlier_fraction = float(len(Fraud))/float(len(Valid))"
   ]
  },
  {
   "cell_type": "code",
   "execution_count": null,
   "metadata": {},
   "outputs": [],
   "source": [
    "print(\"Fraud Cases : {}\".format(len(Fraud)))\n",
    "print(\"Valid Cases : {}\".format(len(Valid)))\n",
    "print(\"Outlier Fraction : \"+str(outlier_fraction))"
   ]
  },
  {
   "cell_type": "code",
   "execution_count": null,
   "metadata": {},
   "outputs": [],
   "source": [
    "#Correlation\n",
    "corr_mat = data.corr()\n",
    "corr_mat"
   ]
  },
  {
   "cell_type": "code",
   "execution_count": null,
   "metadata": {},
   "outputs": [],
   "source": [
    "top_corr_features = corr_mat.index\n",
    "top_corr_features"
   ]
  },
  {
   "cell_type": "code",
   "execution_count": null,
   "metadata": {},
   "outputs": [],
   "source": [
    "plt.figure(figsize=(20,20))\n",
    "g = sns.heatmap(data[top_corr_features].corr(),annot=True,cmap=\"RdYlGn\")"
   ]
  },
  {
   "cell_type": "markdown",
   "metadata": {},
   "source": [
    "Check the Class vs independent features for correlation : V14 has highest negative correaltion."
   ]
  },
  {
   "cell_type": "code",
   "execution_count": null,
   "metadata": {},
   "outputs": [],
   "source": [
    "#Splitting the independent features and dependent features\n",
    "columns = data.columns.tolist()\n",
    "columns"
   ]
  },
  {
   "cell_type": "code",
   "execution_count": null,
   "metadata": {},
   "outputs": [],
   "source": [
    "#Filter the column with CLASS alone\n",
    "columns = [c for c in columns if c not in [\"Class\"]]\n",
    "columns"
   ]
  },
  {
   "cell_type": "code",
   "execution_count": null,
   "metadata": {},
   "outputs": [],
   "source": [
    "#Define X, Y with random_state\n",
    "state = np.random.RandomState(42)\n",
    "X = data[columns]\n",
    "y = data[\"Class\"]\n",
    "X_outliers =state.uniform(low=0,high=1,size=(X.shape[0],X.shape[1]))"
   ]
  },
  {
   "cell_type": "code",
   "execution_count": null,
   "metadata": {},
   "outputs": [],
   "source": [
    "X"
   ]
  },
  {
   "cell_type": "code",
   "execution_count": null,
   "metadata": {},
   "outputs": [],
   "source": [
    "y"
   ]
  },
  {
   "cell_type": "code",
   "execution_count": null,
   "metadata": {},
   "outputs": [],
   "source": [
    "X_outliers"
   ]
  },
  {
   "cell_type": "code",
   "execution_count": null,
   "metadata": {},
   "outputs": [],
   "source": [
    "print(X.shape,y.shape)"
   ]
  },
  {
   "cell_type": "markdown",
   "metadata": {},
   "source": [
    "## Model Prediction "
   ]
  },
  {
   "cell_type": "markdown",
   "metadata": {},
   "source": [
    "We do the model prediction via 3 methods :\n",
    "1. Isolation Forest Algorithm\n",
    "2. Local Outlier Factor (LOF) Algorithm\n",
    "3. Support Vector Machine\n",
    "\n",
    "At last, we will compare the accuracy results of each models."
   ]
  },
  {
   "cell_type": "code",
   "execution_count": null,
   "metadata": {},
   "outputs": [],
   "source": [
    "##Define the outlier detection methods\n",
    "\n",
    "import scipy\n",
    "from sklearn.ensemble import IsolationForest\n",
    "from sklearn.neighbors import LocalOutlierFactor\n",
    "from sklearn.svm import OneClassSVM\n",
    "\n",
    "classifiers = {\n",
    "    \n",
    "    \"Isolation Forest\" : IsolationForest(n_estimators=100,\n",
    "                                        max_samples=len(X),\n",
    "                                        contamination=outlier_fraction,\n",
    "                                        random_state=state,\n",
    "                                        verbose=0),\n",
    "    \n",
    "    \"Local Outlier Factor\" : LocalOutlierFactor(n_neighbors=20,\n",
    "                                               algorithm='auto',\n",
    "                                               leaf_size=30,\n",
    "                                               metric='minkowski',\n",
    "                                               p=2,\n",
    "                                               metric_params=None,\n",
    "                                               contamination=outlier_fraction),\n",
    "    \n",
    "    \"Support Vector Machine\" : OneClassSVM(kernel='rbf',\n",
    "                                          degree=3,\n",
    "                                          gamma=0.1,\n",
    "                                          nu=0.05,\n",
    "                                          max_iter=-1,\n",
    "                                          random_state=state)\n",
    "    \n",
    "}"
   ]
  },
  {
   "cell_type": "code",
   "execution_count": null,
   "metadata": {},
   "outputs": [],
   "source": [
    "type(classifiers)"
   ]
  },
  {
   "cell_type": "code",
   "execution_count": null,
   "metadata": {},
   "outputs": [],
   "source": [
    "classifiers"
   ]
  },
  {
   "cell_type": "code",
   "execution_count": null,
   "metadata": {},
   "outputs": [],
   "source": [
    "n_outliers = len(Fraud)\n",
    "n_outliers"
   ]
  },
  {
   "cell_type": "code",
   "execution_count": null,
   "metadata": {},
   "outputs": [],
   "source": [
    "for i , (clf_name,clf) in enumerate(classifiers.items()):\n",
    "    #Fit the data and tag outliers\n",
    "    if clf_name == \"Local Outlier Factor\":\n",
    "        y_pred = clf.fit_predict(X)\n",
    "        scores_prediction = clf.negative_outlier_factor_\n",
    "    \n",
    "    elif clf_name == \"Support Vector Machine\":\n",
    "        clf.fit(X)\n",
    "        y_pred = clf.predict(X)\n",
    "        \n",
    "    else:\n",
    "        clf.fit(X)\n",
    "        scores_prediction =clf.decision_function(X)\n",
    "        y_pred = clf.predict(X)"
   ]
  },
  {
   "cell_type": "code",
   "execution_count": null,
   "metadata": {},
   "outputs": [],
   "source": [
    "#Reshape the prediction values to 0 for Valid transaction, 1 for Fraud transaction\n",
    "y_pred[y_pred == 1] ==0\n",
    "y_pred[y_pred == -1] ==1\n",
    "n_errors = (y_pred != y).sum()"
   ]
  },
  {
   "cell_type": "code",
   "execution_count": null,
   "metadata": {},
   "outputs": [],
   "source": [
    "#Run Classification Metrics\n",
    "print(\" {} : {}\".format(clf_name,n_errors))\n",
    "print(\"Accuracy Scores : \")\n",
    "print(accuracy_scores(y,y_pred))\n",
    "print(\"Classification Scores : \")\n",
    "print(classfication_report(y,y_pred))"
   ]
  },
  {
   "cell_type": "code",
   "execution_count": 2,
   "metadata": {},
   "outputs": [],
   "source": [
    "result = pd.DataFrame({\n",
    "    \"Model\" : [\"Support Vector Machine\",\"Local Outlier Factor\",\"Isolation Forest\"],\n",
    "    \"Accuracy (%)\" : [77,84,96]}\n",
    ")"
   ]
  },
  {
   "cell_type": "code",
   "execution_count": 3,
   "metadata": {},
   "outputs": [
    {
     "data": {
      "image/png": "[encoded data removed]",
      "text/plain": [
       "<Figure size 1080x360 with 1 Axes>"
      ]
     },
     "metadata": {
      "needs_background": "light"
     },
     "output_type": "display_data"
    }
   ],
   "source": [
    "#Lets visualize it using count plot\n",
    "result.plot(kind=\"barh\",figsize=(15,5),legend=False)\n",
    "\n",
    "#customize count plot\n",
    "plt.title(\"Accuracy Comparison of 3 models\")\n",
    "YLABELS = [\"Support Vector Machine\",\"Local Outlier Factor\",\"Isolation Forest\"]\n",
    "plt.yticks(range(3),YLABELS)\n",
    "plt.ylabel(\"Models\")\n",
    "plt.xlabel(\"Accuracy in Percent\")\n",
    "plt.show()"
   ]
  },
  {
   "cell_type": "code",
   "execution_count": null,
   "metadata": {},
   "outputs": [],
   "source": []
  }
 ],
 "metadata": {
  "kernelspec": {
   "display_name": "Python 3",
   "language": "python",
   "name": "python3"
  },
  "language_info": {
   "codemirror_mode": {
    "name": "ipython",
    "version": 3
   },
   "file_extension": ".py",
   "mimetype": "text/x-python",
   "name": "python",
   "nbconvert_exporter": "python",
   "pygments_lexer": "ipython3",
   "version": "3.7.4"
  }
 },
 "nbformat": 4,
 "nbformat_minor": 2
}
